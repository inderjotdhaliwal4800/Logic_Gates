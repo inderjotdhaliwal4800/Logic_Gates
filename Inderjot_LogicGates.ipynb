{
 "cells": [
  {
   "cell_type": "code",
   "execution_count": 1,
   "metadata": {},
   "outputs": [
    {
     "name": "stderr",
     "output_type": "stream",
     "text": [
      "Using TensorFlow backend.\n",
      "WARNING: Logging before flag parsing goes to stderr.\n",
      "W0918 00:31:58.765650 140735751357312 __init__.py:308] Limited tf.compat.v2.summary API due to missing TensorBoard installation.\n"
     ]
    }
   ],
   "source": [
    "import numpy as np\n",
    "from sklearn.model_selection import train_test_split\n",
    "from keras.models import Sequential\n",
    "from keras.layers import Dense"
   ]
  },
  {
   "cell_type": "code",
   "execution_count": 2,
   "metadata": {},
   "outputs": [],
   "source": [
    "n_sample = 300\n",
    "n_in = 3\n",
    "x = np.random.binomial(1, 0.5, (n_sample, n_in))"
   ]
  },
  {
   "cell_type": "code",
   "execution_count": 3,
   "metadata": {},
   "outputs": [],
   "source": [
    "def OR(values, samples):\n",
    "    result = []\n",
    "    for i in range(samples):\n",
    "        res = 0\n",
    "        if 1 in values[i]:\n",
    "            res = 1\n",
    "        result.append([res])\n",
    "    return np.array(result)"
   ]
  },
  {
   "cell_type": "code",
   "execution_count": 4,
   "metadata": {},
   "outputs": [],
   "source": [
    "def AND(values, samples):\n",
    "    result = []\n",
    "    for i in range(samples):\n",
    "        res = 1\n",
    "        if 1 not in values[i]:\n",
    "            res = 0\n",
    "        result.append([res])\n",
    "    return np.array(result)"
   ]
  },
  {
   "cell_type": "code",
   "execution_count": 5,
   "metadata": {},
   "outputs": [],
   "source": [
    "def NOR(values, samples):\n",
    "    y = OR(values, samples)\n",
    "    y = y ^ 1\n",
    "    return y"
   ]
  },
  {
   "cell_type": "code",
   "execution_count": 6,
   "metadata": {},
   "outputs": [],
   "source": [
    "def NAND(values, samples):\n",
    "    y = OR(values, samples)\n",
    "    y = y ^ 1\n",
    "    return y"
   ]
  },
  {
   "cell_type": "code",
   "execution_count": 7,
   "metadata": {},
   "outputs": [],
   "source": [
    "y_or = OR(x, n_sample)\n",
    "y_and = AND(x, n_sample)\n",
    "y_nor = NOR(x, n_sample)\n",
    "y_nand = NAND(x, n_sample)"
   ]
  },
  {
   "cell_type": "code",
   "execution_count": 23,
   "metadata": {},
   "outputs": [],
   "source": [
    "gate = 'and'\n",
    "\n",
    "if gate == 'or':\n",
    "    y = y_or\n",
    "elif gate == 'and':\n",
    "    y = y_and\n",
    "elif gate == 'nor':\n",
    "    y = y_nor\n",
    "elif gate == 'nand':\n",
    "    y = y_nand"
   ]
  },
  {
   "cell_type": "code",
   "execution_count": 24,
   "metadata": {},
   "outputs": [],
   "source": [
    "x_train, x_test, y_train, y_test = train_test_split(x,y, test_size=0.25)"
   ]
  },
  {
   "cell_type": "code",
   "execution_count": 25,
   "metadata": {},
   "outputs": [],
   "source": [
    "def neuralnet():\n",
    "    model = Sequential()\n",
    "    model.add(Dense(5, input_dim=3, activation='relu'))\n",
    "    model.add(Dense(8, activation='relu'))\n",
    "    model.add(Dense(8, activation='relu'))\n",
    "    model.add(Dense(1, activation='sigmoid'))\n",
    "    model.compile(loss='mean_squared_error', optimizer='adam', metrics=['accuracy'])\n",
    "    return model"
   ]
  },
  {
   "cell_type": "code",
   "execution_count": 26,
   "metadata": {},
   "outputs": [],
   "source": [
    "model = neuralnet()"
   ]
  },
  {
   "cell_type": "code",
   "execution_count": 27,
   "metadata": {},
   "outputs": [
    {
     "data": {
      "text/plain": [
       "(225, 3)"
      ]
     },
     "execution_count": 27,
     "metadata": {},
     "output_type": "execute_result"
    }
   ],
   "source": [
    "x_train.shape"
   ]
  },
  {
   "cell_type": "code",
   "execution_count": 28,
   "metadata": {},
   "outputs": [
    {
     "data": {
      "text/plain": [
       "(225, 1)"
      ]
     },
     "execution_count": 28,
     "metadata": {},
     "output_type": "execute_result"
    }
   ],
   "source": [
    "y_train.shape"
   ]
  },
  {
   "cell_type": "code",
   "execution_count": 29,
   "metadata": {},
   "outputs": [
    {
     "name": "stdout",
     "output_type": "stream",
     "text": [
      "Epoch 1/30\n",
      "225/225 [==============================] - 0s 2ms/step - loss: 0.2611 - acc: 0.2800\n",
      "Epoch 2/30\n",
      "225/225 [==============================] - 0s 143us/step - loss: 0.2466 - acc: 0.6933\n",
      "Epoch 3/30\n",
      "225/225 [==============================] - 0s 141us/step - loss: 0.2360 - acc: 0.8978\n",
      "Epoch 4/30\n",
      "225/225 [==============================] - 0s 155us/step - loss: 0.2258 - acc: 0.8978\n",
      "Epoch 5/30\n",
      "225/225 [==============================] - 0s 139us/step - loss: 0.2135 - acc: 0.8978\n",
      "Epoch 6/30\n",
      "225/225 [==============================] - 0s 165us/step - loss: 0.1983 - acc: 0.8978\n",
      "Epoch 7/30\n",
      "225/225 [==============================] - 0s 131us/step - loss: 0.1824 - acc: 0.8978\n",
      "Epoch 8/30\n",
      "225/225 [==============================] - 0s 133us/step - loss: 0.1655 - acc: 0.8978\n",
      "Epoch 9/30\n",
      "225/225 [==============================] - 0s 128us/step - loss: 0.1470 - acc: 0.8978\n",
      "Epoch 10/30\n",
      "225/225 [==============================] - 0s 127us/step - loss: 0.1280 - acc: 0.8978\n",
      "Epoch 11/30\n",
      "225/225 [==============================] - 0s 132us/step - loss: 0.1108 - acc: 0.8978\n",
      "Epoch 12/30\n",
      "225/225 [==============================] - 0s 133us/step - loss: 0.0965 - acc: 0.8978\n",
      "Epoch 13/30\n",
      "225/225 [==============================] - 0s 130us/step - loss: 0.0847 - acc: 0.8978\n",
      "Epoch 14/30\n",
      "225/225 [==============================] - 0s 133us/step - loss: 0.0758 - acc: 0.8978\n",
      "Epoch 15/30\n",
      "225/225 [==============================] - 0s 146us/step - loss: 0.0688 - acc: 0.8978\n",
      "Epoch 16/30\n",
      "225/225 [==============================] - 0s 130us/step - loss: 0.0627 - acc: 0.8978\n",
      "Epoch 17/30\n",
      "225/225 [==============================] - 0s 129us/step - loss: 0.0572 - acc: 0.8978\n",
      "Epoch 18/30\n",
      "225/225 [==============================] - 0s 131us/step - loss: 0.0517 - acc: 0.8978\n",
      "Epoch 19/30\n",
      "225/225 [==============================] - 0s 131us/step - loss: 0.0460 - acc: 0.8978\n",
      "Epoch 20/30\n",
      "225/225 [==============================] - 0s 133us/step - loss: 0.0402 - acc: 0.8978\n",
      "Epoch 21/30\n",
      "225/225 [==============================] - 0s 129us/step - loss: 0.0350 - acc: 0.9556\n",
      "Epoch 22/30\n",
      "225/225 [==============================] - 0s 127us/step - loss: 0.0296 - acc: 1.0000\n",
      "Epoch 23/30\n",
      "225/225 [==============================] - 0s 126us/step - loss: 0.0250 - acc: 1.0000\n",
      "Epoch 24/30\n",
      "225/225 [==============================] - 0s 126us/step - loss: 0.0210 - acc: 1.0000\n",
      "Epoch 25/30\n",
      "225/225 [==============================] - 0s 128us/step - loss: 0.0175 - acc: 1.0000\n",
      "Epoch 26/30\n",
      "225/225 [==============================] - 0s 127us/step - loss: 0.0145 - acc: 1.0000\n",
      "Epoch 27/30\n",
      "225/225 [==============================] - 0s 128us/step - loss: 0.0120 - acc: 1.0000\n",
      "Epoch 28/30\n",
      "225/225 [==============================] - 0s 132us/step - loss: 0.0102 - acc: 1.0000\n",
      "Epoch 29/30\n",
      "225/225 [==============================] - 0s 134us/step - loss: 0.0086 - acc: 1.0000\n",
      "Epoch 30/30\n",
      "225/225 [==============================] - 0s 131us/step - loss: 0.0073 - acc: 1.0000\n"
     ]
    },
    {
     "data": {
      "text/plain": [
       "<keras.callbacks.History at 0x1a3cd4ea58>"
      ]
     },
     "execution_count": 29,
     "metadata": {},
     "output_type": "execute_result"
    }
   ],
   "source": [
    "model.fit(x_train, y_train, epochs=30, batch_size=10)"
   ]
  },
  {
   "cell_type": "code",
   "execution_count": 30,
   "metadata": {},
   "outputs": [
    {
     "name": "stdout",
     "output_type": "stream",
     "text": [
      "75/75 [==============================] - 0s 982us/step\n"
     ]
    }
   ],
   "source": [
    "score = model.evaluate(x_test, y_test)"
   ]
  },
  {
   "cell_type": "code",
   "execution_count": 31,
   "metadata": {},
   "outputs": [
    {
     "name": "stdout",
     "output_type": "stream",
     "text": [
      "Accuracy: 100.0%\n"
     ]
    }
   ],
   "source": [
    "print(\"Accuracy: {}%\".format(score[1]*100))"
   ]
  },
  {
   "cell_type": "code",
   "execution_count": 32,
   "metadata": {},
   "outputs": [],
   "source": [
    "test = np.random.binomial(1, 0.5, (1, n_in))"
   ]
  },
  {
   "cell_type": "code",
   "execution_count": 33,
   "metadata": {},
   "outputs": [
    {
     "data": {
      "text/plain": [
       "array([[0, 0, 0]])"
      ]
     },
     "execution_count": 33,
     "metadata": {},
     "output_type": "execute_result"
    }
   ],
   "source": [
    "test"
   ]
  },
  {
   "cell_type": "code",
   "execution_count": 34,
   "metadata": {},
   "outputs": [],
   "source": [
    "pred = model.predict(test)"
   ]
  },
  {
   "cell_type": "code",
   "execution_count": 35,
   "metadata": {},
   "outputs": [
    {
     "name": "stdout",
     "output_type": "stream",
     "text": [
      "Predicted Value: [[0.19740185]]\n"
     ]
    }
   ],
   "source": [
    "print('Predicted Value: {}'.format(pred))"
   ]
  },
  {
   "cell_type": "code",
   "execution_count": 36,
   "metadata": {},
   "outputs": [
    {
     "name": "stdout",
     "output_type": "stream",
     "text": [
      "Predicted class : 0\n"
     ]
    }
   ],
   "source": [
    "if pred > 0.5:\n",
    "    print(\"Predicted class : 1\")\n",
    "else:\n",
    "    print(\"Predicted class : 0\")"
   ]
  },
  {
   "cell_type": "code",
   "execution_count": null,
   "metadata": {},
   "outputs": [],
   "source": []
  }
 ],
 "metadata": {
  "kernelspec": {
   "display_name": "Python 3",
   "language": "python",
   "name": "python3"
  },
  "language_info": {
   "codemirror_mode": {
    "name": "ipython",
    "version": 3
   },
   "file_extension": ".py",
   "mimetype": "text/x-python",
   "name": "python",
   "nbconvert_exporter": "python",
   "pygments_lexer": "ipython3",
   "version": "3.7.3"
  }
 },
 "nbformat": 4,
 "nbformat_minor": 2
}
